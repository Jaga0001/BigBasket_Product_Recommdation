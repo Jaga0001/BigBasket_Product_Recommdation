{
 "cells": [
  {
   "cell_type": "code",
   "execution_count": 36,
   "id": "6365eed6-5505-4311-9f69-21a5a8a1a0df",
   "metadata": {},
   "outputs": [
    {
     "name": "stdout",
     "output_type": "stream",
     "text": [
      "Modules Imported Sucessfully\n"
     ]
    }
   ],
   "source": [
    "import pandas as pd\n",
    "from sklearn.feature_extraction.text import TfidfVectorizer\n",
    "from sklearn.metrics.pairwise import cosine_similarity\n",
    "\n",
    "print(\"Modules Imported Sucessfully\")\n"
   ]
  },
  {
   "cell_type": "code",
   "execution_count": 11,
   "id": "ef106c3a-864c-41ec-8c5d-bfc95b59fc95",
   "metadata": {},
   "outputs": [
    {
     "data": {
      "text/plain": [
       "(27555, 10)"
      ]
     },
     "execution_count": 11,
     "metadata": {},
     "output_type": "execute_result"
    }
   ],
   "source": [
    "data = pd.read_csv('data.csv')\n",
    "df = pd.DataFrame(data)\n",
    "df.shape"
   ]
  },
  {
   "cell_type": "code",
   "execution_count": 13,
   "id": "8ff61ab7-7048-448c-9c83-325fcdafdffd",
   "metadata": {},
   "outputs": [
    {
     "name": "stdout",
     "output_type": "stream",
     "text": [
      "Cleared NaN Values Successfully\n"
     ]
    },
    {
     "data": {
      "text/html": [
       "<div>\n",
       "<style scoped>\n",
       "    .dataframe tbody tr th:only-of-type {\n",
       "        vertical-align: middle;\n",
       "    }\n",
       "\n",
       "    .dataframe tbody tr th {\n",
       "        vertical-align: top;\n",
       "    }\n",
       "\n",
       "    .dataframe thead th {\n",
       "        text-align: right;\n",
       "    }\n",
       "</style>\n",
       "<table border=\"1\" class=\"dataframe\">\n",
       "  <thead>\n",
       "    <tr style=\"text-align: right;\">\n",
       "      <th></th>\n",
       "      <th>index</th>\n",
       "      <th>product</th>\n",
       "      <th>category</th>\n",
       "      <th>sub_category</th>\n",
       "      <th>brand</th>\n",
       "      <th>sale_price</th>\n",
       "      <th>market_price</th>\n",
       "      <th>type</th>\n",
       "      <th>rating</th>\n",
       "      <th>description</th>\n",
       "      <th>text</th>\n",
       "    </tr>\n",
       "  </thead>\n",
       "  <tbody>\n",
       "    <tr>\n",
       "      <th>0</th>\n",
       "      <td>1</td>\n",
       "      <td>Garlic Oil - Vegetarian Capsule 500 mg</td>\n",
       "      <td>Beauty &amp; Hygiene</td>\n",
       "      <td>Hair Care</td>\n",
       "      <td>Sri Sri Ayurveda</td>\n",
       "      <td>220.0</td>\n",
       "      <td>220.0</td>\n",
       "      <td>Hair Oil &amp; Serum</td>\n",
       "      <td>4.1</td>\n",
       "      <td>This Product contains Garlic Oil that is known...</td>\n",
       "      <td>Garlic Oil - Vegetarian Capsule 500 mg This Pr...</td>\n",
       "    </tr>\n",
       "    <tr>\n",
       "      <th>1</th>\n",
       "      <td>2</td>\n",
       "      <td>Water Bottle - Orange</td>\n",
       "      <td>Kitchen, Garden &amp; Pets</td>\n",
       "      <td>Storage &amp; Accessories</td>\n",
       "      <td>Mastercook</td>\n",
       "      <td>180.0</td>\n",
       "      <td>180.0</td>\n",
       "      <td>Water &amp; Fridge Bottles</td>\n",
       "      <td>2.3</td>\n",
       "      <td>Each product is microwave safe (without lid), ...</td>\n",
       "      <td>Water Bottle - Orange Each product is microwav...</td>\n",
       "    </tr>\n",
       "    <tr>\n",
       "      <th>2</th>\n",
       "      <td>3</td>\n",
       "      <td>Brass Angle Deep - Plain, No.2</td>\n",
       "      <td>Cleaning &amp; Household</td>\n",
       "      <td>Pooja Needs</td>\n",
       "      <td>Trm</td>\n",
       "      <td>119.0</td>\n",
       "      <td>250.0</td>\n",
       "      <td>Lamp &amp; Lamp Oil</td>\n",
       "      <td>3.4</td>\n",
       "      <td>A perfect gift for all occasions, be it your m...</td>\n",
       "      <td>Brass Angle Deep - Plain, No.2 A perfect gift ...</td>\n",
       "    </tr>\n",
       "    <tr>\n",
       "      <th>3</th>\n",
       "      <td>4</td>\n",
       "      <td>Cereal Flip Lid Container/Storage Jar - Assort...</td>\n",
       "      <td>Cleaning &amp; Household</td>\n",
       "      <td>Bins &amp; Bathroom Ware</td>\n",
       "      <td>Nakoda</td>\n",
       "      <td>149.0</td>\n",
       "      <td>176.0</td>\n",
       "      <td>Laundry, Storage Baskets</td>\n",
       "      <td>3.7</td>\n",
       "      <td>Multipurpose container with an attractive desi...</td>\n",
       "      <td>Cereal Flip Lid Container/Storage Jar - Assort...</td>\n",
       "    </tr>\n",
       "    <tr>\n",
       "      <th>4</th>\n",
       "      <td>5</td>\n",
       "      <td>Creme Soft Soap - For Hands &amp; Body</td>\n",
       "      <td>Beauty &amp; Hygiene</td>\n",
       "      <td>Bath &amp; Hand Wash</td>\n",
       "      <td>Nivea</td>\n",
       "      <td>162.0</td>\n",
       "      <td>162.0</td>\n",
       "      <td>Bathing Bars &amp; Soaps</td>\n",
       "      <td>4.4</td>\n",
       "      <td>Nivea Creme Soft Soap gives your skin the best...</td>\n",
       "      <td>Creme Soft Soap - For Hands &amp; Body Nivea Creme...</td>\n",
       "    </tr>\n",
       "  </tbody>\n",
       "</table>\n",
       "</div>"
      ],
      "text/plain": [
       "   index                                            product  \\\n",
       "0      1             Garlic Oil - Vegetarian Capsule 500 mg   \n",
       "1      2                              Water Bottle - Orange   \n",
       "2      3                     Brass Angle Deep - Plain, No.2   \n",
       "3      4  Cereal Flip Lid Container/Storage Jar - Assort...   \n",
       "4      5                 Creme Soft Soap - For Hands & Body   \n",
       "\n",
       "                 category           sub_category              brand  \\\n",
       "0        Beauty & Hygiene              Hair Care  Sri Sri Ayurveda    \n",
       "1  Kitchen, Garden & Pets  Storage & Accessories         Mastercook   \n",
       "2    Cleaning & Household            Pooja Needs                Trm   \n",
       "3    Cleaning & Household   Bins & Bathroom Ware             Nakoda   \n",
       "4        Beauty & Hygiene       Bath & Hand Wash              Nivea   \n",
       "\n",
       "   sale_price  market_price                      type  rating  \\\n",
       "0       220.0         220.0          Hair Oil & Serum     4.1   \n",
       "1       180.0         180.0    Water & Fridge Bottles     2.3   \n",
       "2       119.0         250.0           Lamp & Lamp Oil     3.4   \n",
       "3       149.0         176.0  Laundry, Storage Baskets     3.7   \n",
       "4       162.0         162.0      Bathing Bars & Soaps     4.4   \n",
       "\n",
       "                                         description  \\\n",
       "0  This Product contains Garlic Oil that is known...   \n",
       "1  Each product is microwave safe (without lid), ...   \n",
       "2  A perfect gift for all occasions, be it your m...   \n",
       "3  Multipurpose container with an attractive desi...   \n",
       "4  Nivea Creme Soft Soap gives your skin the best...   \n",
       "\n",
       "                                                text  \n",
       "0  Garlic Oil - Vegetarian Capsule 500 mg This Pr...  \n",
       "1  Water Bottle - Orange Each product is microwav...  \n",
       "2  Brass Angle Deep - Plain, No.2 A perfect gift ...  \n",
       "3  Cereal Flip Lid Container/Storage Jar - Assort...  \n",
       "4  Creme Soft Soap - For Hands & Body Nivea Creme...  "
      ]
     },
     "execution_count": 13,
     "metadata": {},
     "output_type": "execute_result"
    }
   ],
   "source": [
    "#Removing NaN Values from DataSet\n",
    "df['text'] = (df['product'] + \" \" + df['description']).bfill()\n",
    "print(\"Cleared NaN Values Successfully\")\n",
    "df.head()"
   ]
  },
  {
   "cell_type": "code",
   "execution_count": 5,
   "id": "a2b1511f-0650-4375-a623-22a445e39573",
   "metadata": {},
   "outputs": [
    {
     "data": {
      "text/plain": [
       "<27555x31265 sparse matrix of type '<class 'numpy.float64'>'\n",
       "\twith 1111566 stored elements in Compressed Sparse Row format>"
      ]
     },
     "execution_count": 5,
     "metadata": {},
     "output_type": "execute_result"
    }
   ],
   "source": [
    "# Text preprocessing and vectorization\n",
    "tfidf = TfidfVectorizer(stop_words='english')\n",
    "tfidf_matrix = tfidf.fit_transform(df['text'])\n",
    "\n",
    "tfidf_matrix"
   ]
  },
  {
   "cell_type": "code",
   "execution_count": 6,
   "id": "b823f248-4d48-476d-9a53-4b8853c4dd7e",
   "metadata": {},
   "outputs": [
    {
     "data": {
      "text/plain": [
       "array([[1.        , 0.01259131, 0.01472212, ..., 0.01400497, 0.00847576,\n",
       "        0.        ],\n",
       "       [0.01259131, 1.        , 0.00621498, ..., 0.        , 0.        ,\n",
       "        0.01565782],\n",
       "       [0.01472212, 0.00621498, 1.        , ..., 0.00454421, 0.        ,\n",
       "        0.        ],\n",
       "       ...,\n",
       "       [0.01400497, 0.        , 0.00454421, ..., 1.        , 0.        ,\n",
       "        0.        ],\n",
       "       [0.00847576, 0.        , 0.        , ..., 0.        , 1.        ,\n",
       "        0.        ],\n",
       "       [0.        , 0.01565782, 0.        , ..., 0.        , 0.        ,\n",
       "        1.        ]])"
      ]
     },
     "execution_count": 6,
     "metadata": {},
     "output_type": "execute_result"
    }
   ],
   "source": [
    "cosine_sim = cosine_similarity(tfidf_matrix, tfidf_matrix)\n",
    "cosine_sim"
   ]
  },
  {
   "cell_type": "code",
   "execution_count": 34,
   "id": "c6f4621e-81aa-4249-a8f6-cc8d3405c478",
   "metadata": {},
   "outputs": [
    {
     "name": "stdin",
     "output_type": "stream",
     "text": [
      "Enter the product name:  Cauliflower\n"
     ]
    },
    {
     "name": "stdout",
     "output_type": "stream",
     "text": [
      "16105    Brinjal Bottle Shape 500 g + Cauliflower 1 pc ...\n",
      "8794                               Cut Cauliflower, Washed\n",
      "17332                              Cut Cauliflower, Washed\n",
      "5211     Carrots Sliced, Broccoli Florets and Cauliflow...\n",
      "11631    Carrots Sliced, Broccoli Florets and Cauliflow...\n",
      "1041                                              Broccoli\n",
      "21350                                             Broccoli\n",
      "7260                    Cut Cauliflower & Broccoli, Washed\n",
      "15020                   Cut Cauliflower & Broccoli, Washed\n",
      "Name: product, dtype: object\n"
     ]
    }
   ],
   "source": [
    "# Function to get recommendations\n",
    "def get_recommendations(product_name, cosine_sim=cosine_sim):\n",
    "    try:\n",
    "        # Get the index of the product\n",
    "        product_index = df[df['product'] == product_name].index[0]\n",
    "    except IndexError:\n",
    "        print(\"Product not found.\")\n",
    "        return\n",
    "    \n",
    "    sim_scores = list(enumerate(cosine_sim[product_index]))\n",
    "    sim_scores = sorted(sim_scores, key=lambda x: x[1], reverse=True)\n",
    "    sim_scores = sim_scores[1:10]  # Get top 10 recommendations\n",
    "    product_indices = [i[0] for i in sim_scores]\n",
    "    return df['product'].iloc[product_indices]\n",
    "\n",
    "# Example usage\n",
    "product_name = input(\"Enter the product name: \")\n",
    "recommendations = get_recommendations(product_name)\n",
    "if recommendations is not None:\n",
    "    print(recommendations)"
   ]
  },
  {
   "cell_type": "code",
   "execution_count": 35,
   "id": "b086f380-6c09-4f77-8b7f-78b8b32f3312",
   "metadata": {},
   "outputs": [
    {
     "name": "stdout",
     "output_type": "stream",
     "text": [
      "Saved Model Sucessfully\n"
     ]
    }
   ],
   "source": [
    "import pickle\n",
    "\n",
    "# Save cosine_sim and tfidf_matrix\n",
    "with open('model.pkl', 'wb') as f:\n",
    "    pickle.dump((cosine_sim, tfidf_matrix), f)\n",
    "\n",
    "print(\"Saved Model Sucessfully\")"
   ]
  },
  {
   "cell_type": "code",
   "execution_count": null,
   "id": "11261ac5-4ca6-46dc-bd88-012f55e63f67",
   "metadata": {},
   "outputs": [],
   "source": []
  }
 ],
 "metadata": {
  "kernelspec": {
   "display_name": "Python 3 (ipykernel)",
   "language": "python",
   "name": "python3"
  },
  "language_info": {
   "codemirror_mode": {
    "name": "ipython",
    "version": 3
   },
   "file_extension": ".py",
   "mimetype": "text/x-python",
   "name": "python",
   "nbconvert_exporter": "python",
   "pygments_lexer": "ipython3",
   "version": "3.11.5"
  }
 },
 "nbformat": 4,
 "nbformat_minor": 5
}
